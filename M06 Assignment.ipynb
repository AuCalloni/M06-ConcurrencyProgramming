{
 "cells": [
  {
   "metadata": {},
   "cell_type": "markdown",
   "source": "13.1 Write the current date as a string to the text file today.txt.",
   "id": "b85695a533ada5c6"
  },
  {
   "metadata": {
    "ExecuteTime": {
     "end_time": "2024-07-08T22:54:40.150848Z",
     "start_time": "2024-07-08T22:54:40.147021Z"
    }
   },
   "cell_type": "code",
   "source": [
    "from datetime import date, datetime\n",
    "today_date = date.today()\n",
    "print(today_date)\n",
    "\n",
    "with open('today.txt', 'wt') as f:\n",
    "    f.write(str(today_date))\n",
    "    "
   ],
   "id": "5c81be9926958c6a",
   "outputs": [
    {
     "name": "stdout",
     "output_type": "stream",
     "text": [
      "2024-07-08\n"
     ]
    }
   ],
   "execution_count": 16
  },
  {
   "metadata": {},
   "cell_type": "markdown",
   "source": "13.2 Read the text file today.txt into the string today_string.",
   "id": "9cd7be4f5fe1add2"
  },
  {
   "metadata": {
    "ExecuteTime": {
     "end_time": "2024-07-08T22:56:08.630783Z",
     "start_time": "2024-07-08T22:56:08.628136Z"
    }
   },
   "cell_type": "code",
   "source": [
    "with open('today.txt', 'rt') as f:\n",
    "    today_string = f.read()"
   ],
   "id": "3ce84105fae0331e",
   "outputs": [
    {
     "name": "stdout",
     "output_type": "stream",
     "text": [
      "2024-07-08\n"
     ]
    }
   ],
   "execution_count": 20
  },
  {
   "metadata": {},
   "cell_type": "markdown",
   "source": "13.3 Parse the date from today_string.",
   "id": "a475fd3d10deee48"
  },
  {
   "metadata": {
    "ExecuteTime": {
     "end_time": "2024-07-08T22:56:47.694194Z",
     "start_time": "2024-07-08T22:56:47.691326Z"
    }
   },
   "cell_type": "code",
   "source": [
    "parsed_date = datetime.strptime(today_string, '%Y-%m-%d')\n",
    "print(parsed_date)"
   ],
   "id": "2194fcf5dfcbcc08",
   "outputs": [
    {
     "name": "stdout",
     "output_type": "stream",
     "text": [
      "2024-07-08 00:00:00\n"
     ]
    }
   ],
   "execution_count": 21
  },
  {
   "metadata": {},
   "cell_type": "markdown",
   "source": "15.1 Use multiprocessing to create three separate processes. Make each one wait a random number of seconds between zero and one, print the current time, and then exit.",
   "id": "d9bda7865576d7da"
  },
  {
   "metadata": {
    "ExecuteTime": {
     "end_time": "2024-07-08T23:25:35.662723Z",
     "start_time": "2024-07-08T23:25:35.573305Z"
    }
   },
   "cell_type": "code",
   "source": [
    "#NOTE: Jupyter doesn't seem to want to run multiprocessing stuff. I just created a separate python file to complete this.\n",
    "from datetime import datetime\n",
    "import random\n",
    "import time\n",
    "import multiprocessing as mp\n",
    "import os\n",
    "\n",
    "\n",
    "def random_wait():\n",
    "    wait = random.uniform(0, 1)\n",
    "    time.sleep(wait)\n",
    "    now = datetime.now().strftime(\"%H:%M:%S.%f\")\n",
    "    print(f\"Process number: {os.getpid()} waited {wait:.8f} seconds. The time it captured was {now}\")\n",
    "\n",
    "\n",
    "if __name__ == '__main__':\n",
    "    # Create a list of our processes. This isn't needed, but I'll explain in the next comment why we do this.\n",
    "    process_list = []\n",
    "    for process in range(3):\n",
    "        p = mp.Process(target=random_wait)\n",
    "        process_list.append(p)\n",
    "        p.start()\n",
    "\n",
    "    # Interestingly, this doesn't seem to be needed but the python documentation at\n",
    "    # https://docs.python.org/3/library/multiprocessing.html\n",
    "    # uses it in almost EVERY example. It's supposed to make the program wait to terminate until the processes finish.\n",
    "    # I tested around and set the uniform time range between 0 and 20, and added a print statement at the end of this\n",
    "    # program, and it did in fact run the print statement and end the process before the 3 random_wait child processes\n",
    "    # were finished. I'll definitely make note to use the join method. Neato!\n",
    "    for p in process_list:\n",
    "        p.join()\n",
    "\n"
   ],
   "id": "b797dee02f907293",
   "outputs": [],
   "execution_count": 34
  },
  {
   "metadata": {
    "ExecuteTime": {
     "end_time": "2024-07-08T23:19:33.476382Z",
     "start_time": "2024-07-08T23:19:33.474896Z"
    }
   },
   "cell_type": "code",
   "source": "",
   "id": "af9f72657ba9553a",
   "outputs": [],
   "execution_count": 30
  }
 ],
 "metadata": {
  "kernelspec": {
   "display_name": "Python 3",
   "language": "python",
   "name": "python3"
  },
  "language_info": {
   "codemirror_mode": {
    "name": "ipython",
    "version": 2
   },
   "file_extension": ".py",
   "mimetype": "text/x-python",
   "name": "python",
   "nbconvert_exporter": "python",
   "pygments_lexer": "ipython2",
   "version": "2.7.6"
  }
 },
 "nbformat": 4,
 "nbformat_minor": 5
}
